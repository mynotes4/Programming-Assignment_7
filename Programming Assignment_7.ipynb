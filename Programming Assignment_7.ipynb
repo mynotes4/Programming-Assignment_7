{
 "cells": [
  {
   "cell_type": "code",
   "execution_count": null,
   "id": "964b37be",
   "metadata": {},
   "outputs": [],
   "source": [
    "# 1. Write a Python Program to find sum of array?\n",
    "\n",
    "n = int(input(\"Enter no of elements in array \"))\n",
    "l = []\n",
    "for i in range(n):\n",
    "    l.append(float(input(\"Enter array element \")))\n",
    "s = 0\n",
    "for i in range(len(l)):\n",
    "    s = s+ l[i]\n",
    "print(\"sum = \", s)"
   ]
  },
  {
   "cell_type": "code",
   "execution_count": null,
   "id": "1bbef443",
   "metadata": {},
   "outputs": [],
   "source": [
    "# 2. Write a Python Program to find largest element in an array?\n",
    "#method 1\n",
    "n = int(input(\"Enter no of elements in array \"))\n",
    "l = []\n",
    "for i in range(n):\n",
    "    l.append(float(input(\"Enter array element \")))\n",
    "m = l[0]\n",
    "for i in range(len(l)):\n",
    "    if m > l[i]:\n",
    "        m = l[i]\n",
    "print(\"Max element = \", m)"
   ]
  },
  {
   "cell_type": "code",
   "execution_count": null,
   "id": "240bc3b9",
   "metadata": {},
   "outputs": [],
   "source": [
    "# q2 method 2\n",
    "n = int(input(\"Enter no of elements in array \"))\n",
    "l = []\n",
    "for i in range(n):\n",
    "    l.append(float(input(\"Enter array element \")))\n",
    "s = max(l)\n",
    "print(s)"
   ]
  },
  {
   "cell_type": "code",
   "execution_count": null,
   "id": "e1c9ed6d",
   "metadata": {},
   "outputs": [],
   "source": [
    "# 3. Write a Python Program for array rotation?\n",
    "# Method 1\n",
    "n = int(input(\"Enter no of elements in array \"))\n",
    "l = []\n",
    "for i in range(n):\n",
    "    l.append(float(input(\"Enter array element \")))\n",
    "r = int(input(\"\\n\\nEnter no of elements to rotate array by \"))\n",
    "temp = l[:r]\n",
    "for i in range(len(l) - r):\n",
    "    l[i]=l[r+i]\n",
    "l = l[:len(l)-r]+temp\n",
    "print(l)"
   ]
  },
  {
   "cell_type": "code",
   "execution_count": null,
   "id": "8a155956",
   "metadata": {},
   "outputs": [],
   "source": [
    "# q3 Method 2\n",
    "n = int(input(\"Enter no of elements in array \"))\n",
    "l = []\n",
    "for i in range(n):\n",
    "    l.append(float(input(\"Enter array element \")))\n",
    "r = int(input(\"\\n\\nEnter no of elements to rotate array by \"))\n",
    "for i in range(r):\n",
    "    for j in range(len(l)):\n",
    "        t = l[0]\n",
    "        l[0] = l[len(l)-1-j]\n",
    "        l[len(l)-1-j] = t\n",
    "print(l)"
   ]
  },
  {
   "cell_type": "code",
   "execution_count": null,
   "id": "c88a2474",
   "metadata": {},
   "outputs": [],
   "source": [
    "# 4. Write a Python Program to Split the array and add the first part to the end?\n",
    "n = int(input(\"Enter no of elements in array \"))\n",
    "l = []\n",
    "for i in range(n):\n",
    "    l.append(float(input(\"Enter array element \")))\n",
    "r = int(input(\"\\nEnter position to split \"))\n",
    "t = l[:r]\n",
    "l = l[r:]+t\n",
    "print(l)"
   ]
  },
  {
   "cell_type": "code",
   "execution_count": null,
   "id": "de8966fa",
   "metadata": {},
   "outputs": [],
   "source": [
    "# 5. Write a Python Program to check if given array is Monotonic?\n",
    "n = int(input(\"Enter no of elements in array \"))\n",
    "l = []\n",
    "for i in range(n):\n",
    "    l.append(float(input(\"Enter array element \")))\n",
    "flag = 0\n",
    "for i in range(len(l)-1):\n",
    "    for j in range(i,len(l)):\n",
    "        if l[i] <= l[j]:\n",
    "            continue\n",
    "        else:\n",
    "            flag = 1\n",
    "            break\n",
    "if flag == 1:\n",
    "    for i in range(len(l)-1):\n",
    "        for j in range(i,len(l)):\n",
    "            if l[i] >= l[j]:\n",
    "                continue\n",
    "            else:\n",
    "                flag = 2\n",
    "                break\n",
    "print(l)\n",
    "if flag == 0 or flag == 1:\n",
    "    print(\"It is an monotonic list \")\n",
    "else:\n",
    "    print(\"It is not monotonic list \")"
   ]
  }
 ],
 "metadata": {
  "kernelspec": {
   "display_name": "Python 3 (ipykernel)",
   "language": "python",
   "name": "python3"
  },
  "language_info": {
   "codemirror_mode": {
    "name": "ipython",
    "version": 3
   },
   "file_extension": ".py",
   "mimetype": "text/x-python",
   "name": "python",
   "nbconvert_exporter": "python",
   "pygments_lexer": "ipython3",
   "version": "3.9.12"
  }
 },
 "nbformat": 4,
 "nbformat_minor": 5
}
